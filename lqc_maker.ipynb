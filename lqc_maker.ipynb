{
 "cells": [
  {
   "cell_type": "markdown",
   "source": [
    "описание"
   ],
   "metadata": {
    "collapsed": false
   }
  },
  {
   "cell_type": "code",
   "execution_count": 23,
   "metadata": {
    "collapsed": true
   },
   "outputs": [],
   "source": [
    "def imports_dicts():\n",
    "\n",
    "\n",
    "    with open('famdict.json', 'r', encoding='utf-8') as f:\n",
    "        famdict = json.load(f)\n",
    "    with open('lqcdict.json', 'r', encoding='utf-8') as f:\n",
    "        lqcdict = json.load(f)\n",
    "    return famdict, lqcdict"
   ]
  },
  {
   "cell_type": "code",
   "execution_count": 24,
   "outputs": [],
   "source": [
    "def datasetlist_sort(dbdatasetlist):\n",
    "    dsets = []\n",
    "    distance_typing = 300  #параметр для настройки типизации интервалов записи\n",
    "    for dset in dbdatasetlist:\n",
    "        top = dset[1]\n",
    "        bottom = dset[2]\n",
    "        if top > bottom:\n",
    "            top, bottom = bottom, top\n",
    "        dsets.append([dset[0], top, bottom, bottom - top])\n",
    "    ds_df = pd.DataFrame(dsets, columns=['project_index', 'top', 'bottom', 'size'])\n",
    "    ds_df.sort_values(by=['top', 'size'], inplace=True)\n",
    "\n",
    "    dbs = DBSCAN(eps=distance_typing, min_samples=1).fit(ds_df[['top', 'bottom']])\n",
    "    ds_df['labels'] = dbs.labels_\n",
    "\n",
    "    print(ds_df.to_string())\n",
    "\n",
    "    return ds_df[['project_index', 'labels']].values.tolist()"
   ],
   "metadata": {
    "collapsed": false
   }
  },
  {
   "cell_type": "code",
   "execution_count": 25,
   "outputs": [],
   "source": [
    "\n",
    "#идея в том чтобы возвращать массив данных кривойб юниты.чтобы сразу записать в обьект welly\n",
    "#нужно найти кривую проверить юниты и если не совпадают то пересчитать в нужные записать все в массив и вернуть его\n",
    "def lqclogdata(wLQC,dataset_ind, dslabel_):\n",
    "    logs = []\n",
    "    lqcname = ''\n",
    "    for cname in las_project[dataset_ind].data.keys():\n",
    "        if any(cname in sublist for sublist in list(lqcdict.values())):  # есть ли кривая в словаре lqcdict гделибо\n",
    "            lqcname = list(lqcdict.keys())[list(lqcdict.values()).index(\n",
    "                [sublist for sublist in list(lqcdict.values()) if cname in sublist][\n",
    "                    0])] + dslabel_  #выбираем из словаря ключ соотвествующий найденному в значениях имени кривой\n",
    "            if lqcname in wLQC.data.keys():\n",
    "                clist = [i for i in wLQC.data.keys() if i.find(lqcname) != -1]\n",
    "                if len(clist) >= 1:\n",
    "                    lqcname = lqcname + \"_\" + str(len(clist))\n",
    "\n",
    "            logs.append([cname, lqcname])\n",
    "\n",
    "        #if db.variableUnit(well, ds, lqcname)!=famdict[lqcname[0:version_index]][1]:\n",
    "        # \tcrunit = \"\"\n",
    "        #\n",
    "        # \tif lqcname[0:version_index] == \"NPHI\": #добавить проверку по конкретным методам ГК НК\n",
    "        # \t\tif  float(db.variableInformation(well, ds, lqcname,\" Mean\"))<1:\n",
    "        # \t\t\tcrunit = \"v/v\"\n",
    "        # \t\telse:\n",
    "        # \t\t\tcrunit = \"%\"\n",
    "        #\n",
    "        # \telif lqcname[0:version_index] == \"GR\" :\n",
    "        # \t\tif float(db.variableInformation(well, ds, lqcname, \"Mean\"))<50:\n",
    "        # \t\t\tcrunit = \"uR/H\"\n",
    "        # \t\telse:\n",
    "        # \t\t\tcrunit = \"Gapi\"\n",
    "        #\n",
    "        # \telif lqcname[0:version_index] == \"CALI\" :\n",
    "        # \t\tif float(db.variableInformation(well, ds, lqcname, \"Mean\"))<1:\n",
    "        # \t\t\tcrunit = \"m\"\n",
    "        # \t\telse:\n",
    "        # \t\t\tcrunit = \"mm\"\n",
    "        # \telse:\n",
    "        # \t\tcrunit = famdict[lqcname[0:version_index]][1]\n",
    "    return logs"
   ],
   "metadata": {
    "collapsed": false
   }
  },
  {
   "cell_type": "code",
   "execution_count": 26,
   "outputs": [],
   "source": [
    "#find list of las files in folder las_path including subfolders\n",
    "def make_las_project(las_path):\n",
    "    las_list = []\n",
    "    for root, dirs, files in os.walk(las_path):\n",
    "        for file in files:\n",
    "            if file.lower().endswith(\".las\"):\n",
    "                las_list.append(os.path.join(root, file))\n",
    "\n",
    "\n",
    "    las_project = Project.from_las(las_list, index='M')\n",
    "    #сделать таблицу выполненного комплекса по скважине. или скважинам? нудно выделить то, что есть в ласах и то что было занесено в lqc\n",
    "    return las_project"
   ],
   "metadata": {
    "collapsed": false
   }
  },
  {
   "cell_type": "code",
   "execution_count": 27,
   "outputs": [],
   "source": [
    "def make_intevals(las_project):\n",
    "    wells_list = {}\n",
    "    for ind, w in enumerate(las_project):\n",
    "\n",
    "        well_name = str(w.name).replace(\" \", \"\")\n",
    "        ds_start = w.header[w.header['mnemonic'] == 'STRT']['value'].values[0]\n",
    "        ds_stop = w.header[w.header['mnemonic'] == 'STOP']['value'].values[0]\n",
    "\n",
    "        if well_name == 'WELL' or well_name == '':\n",
    "            well_name = str(w.fname)\n",
    "            print(\"!!! file {} does not contain well name. Using file name instead\".format(w.fname)) #задавать вручную\n",
    "\n",
    "        if well_name not in wells_list.keys() :\n",
    "            wells_list[well_name] = []\n",
    "\n",
    "        wells_list[well_name].append([ind, ds_start, ds_stop])\n",
    "    print(wells_list)\n",
    "    return wells_list"
   ],
   "metadata": {
    "collapsed": false
   }
  },
  {
   "cell_type": "code",
   "execution_count": 28,
   "outputs": [],
   "source": [
    "def make_lqc_las(wells_list, las_project):\n",
    "    for well in wells_list:\n",
    "        print(well)\n",
    "        #determine maximum depth for lqc dataset and create list for dataframe index\n",
    "\n",
    "        max_depth = max([w[2] for w in wells_list[well]])\n",
    "        min_depth = min([w[1] for w in wells_list[well]])\n",
    "        #MD = [round(d * 0.1, 1) for d in range(0, int(round((max_depth + 5) / 0.1, 0)) + 1)]\n",
    "\n",
    "        wLQC = Well()\n",
    "        wLQC.name = well\n",
    "\n",
    "\n",
    "\n",
    "        for dataset_ind, dslabel in datasetlist_sort(wells_list[well]):\n",
    "            if dslabel == 0:\n",
    "                dslabel_ = \"\"\n",
    "            else:\n",
    "                dslabel_ = \"_\" + str(dslabel)\n",
    "\n",
    "\n",
    "            #copy curve object correctly to preserve unit information\n",
    "            #assign or check units for curves\n",
    "            for cname, lqcname in lqclogdata(wLQC, dataset_ind, dslabel_):\n",
    "\n",
    "                wLQC.data[lqcname] = Curve(data=las_project[dataset_ind].data[cname].values, index=las_project[dataset_ind].data[cname].index,\n",
    "                          mnemonic=lqcname ).to_basis(start=min_depth-5, stop=max_depth + 5, step=0.1)\n",
    "\n",
    "        if len(wLQC.data.keys()) > 0:\n",
    "            wLQC.to_las(well +\"_LQC.las\")"
   ],
   "metadata": {
    "collapsed": false
   }
  },
  {
   "cell_type": "code",
   "execution_count": 29,
   "outputs": [
    {
     "name": "stderr",
     "output_type": "stream",
     "text": [
      "0it [00:00, ?it/s]/opt/anaconda3/lib/python3.9/site-packages/welly/las.py:144: UserWarning: Warning, LAS version 3.0 not yet supported. Attempting to use LAS 1.2 and 2.0 parsing logic for LAS 3.0.\n",
      "  datasets = from_lasio(las)\n",
      "/opt/anaconda3/lib/python3.9/site-packages/welly/las.py:144: UserWarning: Warning, LAS version 3.0 not yet supported. Attempting to use LAS 1.2 and 2.0 parsing logic for LAS 3.0.\n",
      "  datasets = from_lasio(las)\n",
      "2it [00:00, 14.60it/s]/opt/anaconda3/lib/python3.9/site-packages/welly/las.py:144: UserWarning: Warning, LAS version 3.0 not yet supported. Attempting to use LAS 1.2 and 2.0 parsing logic for LAS 3.0.\n",
      "  datasets = from_lasio(las)\n",
      "/opt/anaconda3/lib/python3.9/site-packages/welly/las.py:144: UserWarning: Warning, LAS version 3.0 not yet supported. Attempting to use LAS 1.2 and 2.0 parsing logic for LAS 3.0.\n",
      "  datasets = from_lasio(las)\n",
      "4it [00:00,  5.82it/s]/opt/anaconda3/lib/python3.9/site-packages/welly/las.py:144: UserWarning: Warning, LAS version 3.0 not yet supported. Attempting to use LAS 1.2 and 2.0 parsing logic for LAS 3.0.\n",
      "  datasets = from_lasio(las)\n",
      "5it [00:00,  4.69it/s]/opt/anaconda3/lib/python3.9/site-packages/welly/las.py:144: UserWarning: Warning, LAS version 3.0 not yet supported. Attempting to use LAS 1.2 and 2.0 parsing logic for LAS 3.0.\n",
      "  datasets = from_lasio(las)\n",
      "/opt/anaconda3/lib/python3.9/site-packages/welly/las.py:144: UserWarning: Warning, LAS version 3.0 not yet supported. Attempting to use LAS 1.2 and 2.0 parsing logic for LAS 3.0.\n",
      "  datasets = from_lasio(las)\n",
      "7it [00:01,  5.59it/s]/opt/anaconda3/lib/python3.9/site-packages/welly/las.py:144: UserWarning: Warning, LAS version 3.0 not yet supported. Attempting to use LAS 1.2 and 2.0 parsing logic for LAS 3.0.\n",
      "  datasets = from_lasio(las)\n",
      "8it [00:01,  6.04it/s]/opt/anaconda3/lib/python3.9/site-packages/welly/las.py:144: UserWarning: Warning, LAS version 3.0 not yet supported. Attempting to use LAS 1.2 and 2.0 parsing logic for LAS 3.0.\n",
      "  datasets = from_lasio(las)\n",
      "/opt/anaconda3/lib/python3.9/site-packages/welly/las.py:144: UserWarning: Warning, LAS version 3.0 not yet supported. Attempting to use LAS 1.2 and 2.0 parsing logic for LAS 3.0.\n",
      "  datasets = from_lasio(las)\n",
      "10it [00:01,  5.73it/s]/opt/anaconda3/lib/python3.9/site-packages/welly/las.py:144: UserWarning: Warning, LAS version 3.0 not yet supported. Attempting to use LAS 1.2 and 2.0 parsing logic for LAS 3.0.\n",
      "  datasets = from_lasio(las)\n",
      "/opt/anaconda3/lib/python3.9/site-packages/welly/las.py:144: UserWarning: Warning, LAS version 3.0 not yet supported. Attempting to use LAS 1.2 and 2.0 parsing logic for LAS 3.0.\n",
      "  datasets = from_lasio(las)\n",
      "12it [00:01,  6.18it/s]/opt/anaconda3/lib/python3.9/site-packages/welly/las.py:144: UserWarning: Warning, LAS version 3.0 not yet supported. Attempting to use LAS 1.2 and 2.0 parsing logic for LAS 3.0.\n",
      "  datasets = from_lasio(las)\n",
      "/opt/anaconda3/lib/python3.9/site-packages/welly/las.py:144: UserWarning: Warning, LAS version 3.0 not yet supported. Attempting to use LAS 1.2 and 2.0 parsing logic for LAS 3.0.\n",
      "  datasets = from_lasio(las)\n",
      "14it [00:02,  6.52it/s]/opt/anaconda3/lib/python3.9/site-packages/welly/las.py:144: UserWarning: Warning, LAS version 3.0 not yet supported. Attempting to use LAS 1.2 and 2.0 parsing logic for LAS 3.0.\n",
      "  datasets = from_lasio(las)\n",
      "15it [00:02,  6.02it/s]/opt/anaconda3/lib/python3.9/site-packages/welly/las.py:144: UserWarning: Warning, LAS version 3.0 not yet supported. Attempting to use LAS 1.2 and 2.0 parsing logic for LAS 3.0.\n",
      "  datasets = from_lasio(las)\n",
      "/opt/anaconda3/lib/python3.9/site-packages/welly/las.py:144: UserWarning: Warning, LAS version 3.0 not yet supported. Attempting to use LAS 1.2 and 2.0 parsing logic for LAS 3.0.\n",
      "  datasets = from_lasio(las)\n",
      "17it [00:02,  7.56it/s]/opt/anaconda3/lib/python3.9/site-packages/welly/las.py:144: UserWarning: Warning, LAS version 3.0 not yet supported. Attempting to use LAS 1.2 and 2.0 parsing logic for LAS 3.0.\n",
      "  datasets = from_lasio(las)\n",
      "18it [00:02,  6.56it/s]\n"
     ]
    },
    {
     "name": "stdout",
     "output_type": "stream",
     "text": [
      "{'511R': [[0, 3188.1, 3519.1], [1, 3203.3, 3520.3], [2, 1157.04, 3191.34], [3, 112.9, 1250.3], [4, 1142.74, 3180.54], [5, 3160.6, 3520.3], [6, 1004.82, 3201.42], [7, 3285.6, 3517.4], [8, 567.26, 1252.66], [9, 1153.57, 3191.27], [10, 3159.91, 3528.51], [11, 1156.6, 3190.9], [12, 3186.1, 3524.5], [13, 565.5, 1282.05], [14, 1183.4, 3198], [15, 3159.91, 3528.51], [16, 523.1, 1257.4], [17, 516.2, 1240.3]]}\n",
      "511R\n",
      "    project_index      top   bottom     size  labels\n",
      "3               3   112.90  1250.30  1137.40       0\n",
      "17             17   516.20  1240.30   724.10       1\n",
      "16             16   523.10  1257.40   734.30       1\n",
      "13             13   565.50  1282.05   716.55       1\n",
      "8               8   567.26  1252.66   685.40       1\n",
      "6               6  1004.82  3201.42  2196.60       2\n",
      "4               4  1142.74  3180.54  2037.80       2\n",
      "9               9  1153.57  3191.27  2037.70       2\n",
      "11             11  1156.60  3190.90  2034.30       2\n",
      "2               2  1157.04  3191.34  2034.30       2\n",
      "14             14  1183.40  3198.00  2014.60       2\n",
      "10             10  3159.91  3528.51   368.60       3\n",
      "15             15  3159.91  3528.51   368.60       3\n",
      "5               5  3160.60  3520.30   359.70       3\n",
      "12             12  3186.10  3524.50   338.40       3\n",
      "0               0  3188.10  3519.10   331.00       3\n",
      "1               1  3203.30  3520.30   317.00       3\n",
      "7               7  3285.60  3517.40   231.80       3\n"
     ]
    }
   ],
   "source": [
    "import json\n",
    "import pandas as pd\n",
    "from sklearn.cluster import DBSCAN\n",
    "import ctypes\n",
    "from welly import Well, Project, Curve\n",
    "import matplotlib.pyplot as plt\n",
    "import os\n",
    "\n",
    "if __name__ == \"__main__\":\n",
    "    famdict, lqcdict = imports_dicts()\n",
    "    LWD_merge = False #добавить функцию слияния кривых из разных итервалов записи для lwd\n",
    "    las_path = \"/Users/victorpotysyev/PycharmProjects/lqc_maker/511\"\n",
    "    las_project = make_las_project(las_path)\n",
    "    wells_list = make_intevals(las_project)\n",
    "    make_lqc_las(wells_list, las_project)\n",
    "\n",
    "\n"
   ],
   "metadata": {
    "collapsed": false
   }
  }
 ],
 "metadata": {
  "kernelspec": {
   "display_name": "Python 3",
   "language": "python",
   "name": "python3"
  },
  "language_info": {
   "codemirror_mode": {
    "name": "ipython",
    "version": 2
   },
   "file_extension": ".py",
   "mimetype": "text/x-python",
   "name": "python",
   "nbconvert_exporter": "python",
   "pygments_lexer": "ipython2",
   "version": "2.7.6"
  }
 },
 "nbformat": 4,
 "nbformat_minor": 0
}
